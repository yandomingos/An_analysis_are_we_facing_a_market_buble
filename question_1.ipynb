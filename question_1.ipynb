{
 "cells": [
  {
   "cell_type": "code",
   "execution_count": null,
   "id": "4a2729e9-0dd6-4c9a-a7ab-8d5cf2cc45cc",
   "metadata": {},
   "outputs": [],
   "source": [
    "import pandas as pd\n",
    "import numpy as np\n",
    "import datetime as dt\n",
    "from pathlib import Path\n",
    "import matplotlib.pyplot as plt\n",
    "import os\n",
    "import requests\n",
    "import panel as pn\n",
    "import plotly.express as px\n",
    "import hvplot.pandas\n",
    "#from bokeh.sampledata.sea_surface_temperature import sea_surface_temperature as sst\n",
    "from bokeh.models.formatters import DatetimeTickFormatter\n",
    "\n",
    "pn.extension('plotly')\n",
    "\n",
    "%matplotlib inline"
   ]
  },
  {
   "cell_type": "code",
   "execution_count": null,
   "id": "3f849b7f-a8a6-4956-beb1-2416f7f810e6",
   "metadata": {},
   "outputs": [],
   "source": [
    "discount_rate_percent_annum = Path('./yans_work/intdannum.csv')\n",
    "discount_rate_percent_df = pd.read_csv(discount_rate_percent_annum, index_col='DATE', infer_datetime_format=True, parse_dates=True)"
   ]
  },
  {
   "cell_type": "code",
   "execution_count": null,
   "id": "82073976-f631-463d-b055-df9201adad84",
   "metadata": {},
   "outputs": [],
   "source": [
    "discount_rate_percent_df.hvplot.line(title=\"discount rate percent\")"
   ]
  },
  {
   "cell_type": "code",
   "execution_count": null,
   "id": "eb63e0ac-01da-4f19-b6cc-5b49ea40afb8",
   "metadata": {},
   "outputs": [],
   "source": [
    "interest_fed = Path('./yans_work/fed_interest_rate.csv')\n",
    "interest_fed_df = pd.read_csv(interest_fed, infer_datetime_format=True, parse_dates=True, index_col='Date')\n",
    "interest_fed_df.head(10)"
   ]
  },
  {
   "cell_type": "code",
   "execution_count": null,
   "id": "2d7e9214-fed2-4ae9-9960-53abeee3181d",
   "metadata": {},
   "outputs": [],
   "source": [
    "interest_fed_df.dropna(\n",
    "    axis=0,\n",
    "    how='any',\n",
    "    thresh=None,\n",
    "    subset=None,\n",
    "    inplace=True\n",
    ")"
   ]
  },
  {
   "cell_type": "code",
   "execution_count": null,
   "id": "831e00fd-165d-49fb-9826-a9294a2546a1",
   "metadata": {},
   "outputs": [],
   "source": [
    "interest_fed_df = interest_fed_df[['Federal funds effective rate']]"
   ]
  },
  {
   "cell_type": "code",
   "execution_count": null,
   "id": "ea65d83b-b9ec-4735-b51a-5b7d657e342b",
   "metadata": {},
   "outputs": [],
   "source": [
    "interest_fed_df.head()"
   ]
  },
  {
   "cell_type": "code",
   "execution_count": null,
   "id": "b01f729f-7920-4355-b2f1-e607df8d0aab",
   "metadata": {},
   "outputs": [],
   "source": [
    "interest_fed_plot = interest_fed_df.hvplot(height=600, width=1000, rot=90)"
   ]
  },
  {
   "cell_type": "code",
   "execution_count": null,
   "id": "0a623ca2-9278-4c5c-a64f-0129a3098552",
   "metadata": {},
   "outputs": [],
   "source": [
    "interest_fed_plot"
   ]
  },
  {
   "cell_type": "code",
   "execution_count": null,
   "id": "c25b6539-a21a-49d2-a305-8834fb64c7e7",
   "metadata": {},
   "outputs": [],
   "source": [
    "gdp = Path('./yans_work/GDP.csv')\n",
    "gdp_df = pd.read_csv(gdp, infer_datetime_format=True, parse_dates=True, index_col='DATE')\n",
    "gdp_df.head(10)"
   ]
  },
  {
   "cell_type": "code",
   "execution_count": null,
   "id": "cccabef6-511e-497b-9c0d-97e2bf0fdcec",
   "metadata": {},
   "outputs": [],
   "source": [
    "gdp_plot = gdp_df.hvplot.line(title='USA GDP', width=900, rot=90)\n",
    "\n",
    "gdp_plot = px.line(gdp_df, y=\"GDP\", title=\"GDP\",)\n",
    "gdp_plot = gdp_plot.add_vrect( x0=\"2008-07-11\", x1=\"2009-06-30\",\n",
    "               col=1,\n",
    "              annotation_text=\"Housing Bubble\", annotation_position=\"top left\",\n",
    "              fillcolor=\"green\", opacity=0.25, line_width=0)\n",
    "gdp_plot_2 = gdp_plot.add_vrect( x0=\"2020-03-15\", x1=\"2021-06-30\",\n",
    "               col=1,\n",
    "              annotation_text=\"Pandemic\", annotation_position=\"top left\",\n",
    "              fillcolor=\"green\", opacity=0.25, line_width=0)\n",
    "gdp_plot_2"
   ]
  },
  {
   "cell_type": "code",
   "execution_count": null,
   "id": "4894f458-6af1-42e5-9755-ebab691c50d9",
   "metadata": {},
   "outputs": [],
   "source": [
    "monthly_interest_rates = Path('./yans_work/oecd_rates.csv')\n",
    "monthly_interest_rates_df = pd.read_csv(monthly_interest_rates, infer_datetime_format=True, parse_dates=True, index_col='TIME')"
   ]
  },
  {
   "cell_type": "code",
   "execution_count": null,
   "id": "5cabf3bc-c0e3-43ca-95ed-2322bbf46cc3",
   "metadata": {},
   "outputs": [],
   "source": [
    "usa_rates = monthly_interest_rates_df[monthly_interest_rates_df['LOCATION'] == 'USA']"
   ]
  },
  {
   "cell_type": "code",
   "execution_count": null,
   "id": "d61ee9a2-41bc-4a6f-a4bd-fef531c84dc5",
   "metadata": {},
   "outputs": [],
   "source": [
    "usa_rates = usa_rates[['Value']]\n",
    "usa_rates_plot = px.line(usa_rates, y=\"Value\", title = \"Long Term Interest Rates in the USA\")\n",
    "usa_rates_plot = usa_rates_plot.add_vrect(x0=\"2008-07-11\", x1=\"2009-06-30\",\n",
    "               col=1,\n",
    "              annotation_text=\"Housing Bubble\", annotation_position=\"top left\",\n",
    "              fillcolor=\"blue\", opacity=0.25, line_width=0)\n",
    "usa_rates_plot_2 = usa_rates_plot.add_vrect( x0=\"2020-03-15\", x1=\"2021-06-30\",\n",
    "               col=1,\n",
    "              annotation_text=\"Pandemic\", annotation_position=\"top left\",\n",
    "              fillcolor=\"blue\", opacity=0.25, line_width=0)\n",
    "usa_rates_plot_2"
   ]
  }
 ],
 "metadata": {
  "kernelspec": {
   "display_name": "Python [conda env:pyvizenv] *",
   "language": "python",
   "name": "conda-env-pyvizenv-py"
  },
  "language_info": {
   "codemirror_mode": {
    "name": "ipython",
    "version": 3
   },
   "file_extension": ".py",
   "mimetype": "text/x-python",
   "name": "python",
   "nbconvert_exporter": "python",
   "pygments_lexer": "ipython3",
   "version": "3.7.10"
  }
 },
 "nbformat": 4,
 "nbformat_minor": 5
}
