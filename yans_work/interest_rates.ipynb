{
 "cells": [
  {
   "cell_type": "code",
   "execution_count": 1,
   "id": "c622744a-7fa8-4026-8e28-b574d98abddf",
   "metadata": {},
   "outputs": [
    {
     "ename": "SyntaxError",
     "evalue": "illegal target for annotation (<ipython-input-1-2df5f5b80327>, line 12)",
     "output_type": "error",
     "traceback": [
      "\u001b[0;36m  File \u001b[0;32m\"<ipython-input-1-2df5f5b80327>\"\u001b[0;36m, line \u001b[0;32m12\u001b[0m\n\u001b[0;31m    10:21\u001b[0m\n\u001b[0m         ^\u001b[0m\n\u001b[0;31mSyntaxError\u001b[0m\u001b[0;31m:\u001b[0m illegal target for annotation\n"
     ]
    }
   ],
   "source": [
    "import pandas as pd #data manipulation and analysis package\n",
    "import matplotlib.pyplot as plt #if you want to plot your findings\n",
    "import time\n",
    "# import smtplib #enables you to send emails\n",
    "import yfinance as yf\n",
    "import requests\n",
    "# from discord import Webhook, RequestsWebhookAdapter\n",
    "import time\n",
    "yf.pdr_override() # <== that's all it takes :-)\n",
    "from pandas_datareader import data as pdr\n",
    "from datetime import datetime\n",
    "10:21\n",
    "df = pdr.get_data_yahoo(tickers='VNQ', period='20Y', threads=True)\n",
    "df.head()\n",
    "10:22\n",
    "df['Close'].plot(figsize=(20,15))\n",
    "10:22\n",
    "stocks = ['VNQ','XLF','XLC','XLY','XLV','XLI','XLB','XLRE','XLK','XLU','SPDV','DMDV','EEMD']\n",
    "df = pdr.get_data_yahoo(tickers=stocks, period='20Y', threads=True)\n",
    "df.head()\n",
    "10:22\n",
    "df['Adj Close'].plot(figsize=(20,15))"
   ]
  },
  {
   "cell_type": "code",
   "execution_count": null,
   "id": "12d2c665-2bd9-4e9e-b03b-1639cd216a2d",
   "metadata": {},
   "outputs": [],
   "source": []
  }
 ],
 "metadata": {
  "kernelspec": {
   "display_name": "Python [conda env:pyviz] *",
   "language": "python",
   "name": "conda-env-pyviz-py"
  },
  "language_info": {
   "codemirror_mode": {
    "name": "ipython",
    "version": 3
   },
   "file_extension": ".py",
   "mimetype": "text/x-python",
   "name": "python",
   "nbconvert_exporter": "python",
   "pygments_lexer": "ipython3",
   "version": "3.7.10"
  }
 },
 "nbformat": 4,
 "nbformat_minor": 5
}
