{
 "cells": [
  {
   "cell_type": "code",
   "execution_count": null,
   "id": "3071396a-a852-4da1-bf6a-f59668cf9c2c",
   "metadata": {},
   "outputs": [],
   "source": [
    "import pandas as pd\n",
    "import numpy as np\n",
    "import datetime as dt\n",
    "from pathlib import Path\n",
    "import matplotlib.pyplot as plt\n",
    "import os\n",
    "import requests\n",
    "import panel as pn\n",
    "import plotly.express as px\n",
    "import hvplot.pandas\n",
    "#from bokeh.sampledata.sea_surface_temperature import sea_surface_temperature as sst\n",
    "from bokeh.models.formatters import DatetimeTickFormatter\n",
    "\n",
    "pn.extension('plotly')\n",
    "\n",
    "%matplotlib inline"
   ]
  },
  {
   "cell_type": "code",
   "execution_count": null,
   "id": "6d5142e7-d3d0-4eca-baec-19a969898cb5",
   "metadata": {},
   "outputs": [],
   "source": [
    "discount_rate_percent_annum = Path('./Resources/discount_rate.csv')\n",
    "discount_rate_percent_df = pd.read_csv(discount_rate_percent_annum, index_col='DATE', infer_datetime_format=True, parse_dates=True)\n",
    "discount_rate_percent_df.rename(columns={'INTDSRUSM193N':'Value'}, inplace=True)\n",
    "discount_rate_percent_df.head()\n",
    "\n"
   ]
  },
  {
   "cell_type": "code",
   "execution_count": null,
   "id": "daed4c22-0615-4486-ab1e-097d2f614099",
   "metadata": {},
   "outputs": [],
   "source": [
    "discount_rate_plot = px.line(discount_rate_percent_df, y=\"Value\", title = \"Discount rate in the USA\")\n",
    "discount_rate_plot"
   ]
  },
  {
   "cell_type": "code",
   "execution_count": null,
   "id": "052176be-6512-45d2-b879-10e8e1dfa5ad",
   "metadata": {},
   "outputs": [],
   "source": [
    "gdp = Path('./Resources/GDP.csv')\n",
    "gdp_df = pd.read_csv(gdp, infer_datetime_format=True, parse_dates=True, index_col='DATE')\n",
    "gdp_df.head(10)"
   ]
  },
  {
   "cell_type": "code",
   "execution_count": null,
   "id": "6af8f235-6dfe-42ba-a7c2-6c0f793717fa",
   "metadata": {},
   "outputs": [],
   "source": [
    "gdp_plot = gdp_df.hvplot.line(title='USA GDP', width=900, rot=90)\n",
    "\n",
    "gdp_plot = px.line(gdp_df, y=\"GDP\", title=\"GDP\",)\n",
    "gdp_plot = gdp_plot.add_vrect( x0=\"2008-07-11\", x1=\"2009-06-30\",\n",
    "               col=1,\n",
    "              annotation_text=\"Housing Bubble\", annotation_position=\"top left\",\n",
    "              fillcolor=\"green\", opacity=0.25, line_width=0)\n",
    "gdp_plot_2 = gdp_plot.add_vrect( x0=\"2020-03-15\", x1=\"2021-06-30\",\n",
    "               col=1,\n",
    "              annotation_text=\"Pandemic\", annotation_position=\"top left\",\n",
    "              fillcolor=\"green\", opacity=0.25, line_width=0)\n",
    "gdp_plot_2"
   ]
  },
  {
   "cell_type": "markdown",
   "id": "6a3e85bf-06db-4905-af20-81bd3c1f69a7",
   "metadata": {},
   "source": [
    "The slow down of the economy is one of the main indicators that the market is going to crash. As per shown on graph, 2020 showed an economic slow down because of the pandemic, however, things started picking up rapidly after with government incentives. Additionally, in comparison to the 2008 crash, the slow down was a lot more significant in 2020."
   ]
  },
  {
   "cell_type": "code",
   "execution_count": null,
   "id": "daa4be43-ad37-4ef6-a4bd-07d20cf14faf",
   "metadata": {},
   "outputs": [],
   "source": [
    "monthly_interest_rates = Path('./Resources/oecd_rates.csv')\n",
    "monthly_interest_rates_df = pd.read_csv(monthly_interest_rates, infer_datetime_format=True, parse_dates=True, index_col='TIME')\n",
    "usa_rates = monthly_interest_rates_df[monthly_interest_rates_df['LOCATION'] == 'USA']"
   ]
  },
  {
   "cell_type": "code",
   "execution_count": null,
   "id": "deeb0e6a-497f-4a4c-9667-dbd0c3b1637a",
   "metadata": {},
   "outputs": [],
   "source": [
    "usa_rates = usa_rates[['Value']]\n",
    "usa_rates_plot = px.line(usa_rates, y=\"Value\", title = \"Long Term Interest Rates in the USA\")\n",
    "usa_rates_plot = usa_rates_plot.add_vrect(x0=\"2008-07-11\", x1=\"2009-06-30\",\n",
    "               col=1,\n",
    "              annotation_text=\"Housing Bubble\", annotation_position=\"top left\",\n",
    "              fillcolor=\"blue\", opacity=0.25, line_width=0)\n",
    "usa_rates_plot_2 = usa_rates_plot.add_vrect( x0=\"2020-03-15\", x1=\"2021-06-30\",\n",
    "               col=1,\n",
    "              annotation_text=\"Pandemic\", annotation_position=\"top left\",\n",
    "              fillcolor=\"blue\", opacity=0.25, line_width=0)\n",
    "usa_rates_plot_2"
   ]
  },
  {
   "cell_type": "markdown",
   "id": "1fe18ddd-6a09-4e23-b8ea-c6f875e599ff",
   "metadata": {},
   "source": [
    "The main cause of financial bubbles is the abundance of money in the market. When long term interest rates are lowered, banks are incentivized to give more credit thorugh the landing process. This 'bubbly' process most of the time leads to the formation of a bubble in the economy.\n",
    "As per showon on graph, interest rates have been lowering signifficantly and were at the lowest in 2020, it went back up at the beginning of the year, however, slowed down again mid-year. "
   ]
  },
  {
   "cell_type": "code",
   "execution_count": null,
   "id": "c292aedf-8af6-4b55-9bc9-689f1af4642a",
   "metadata": {},
   "outputs": [],
   "source": [
    "# Create a Title for the Dashboard\n",
    "#dashboard_title = pn.pane.Markdown(\n",
    "#    \"\"\"\n",
    "##An analysis of the stock market: are we facing a bubble?\n",
    "#\"\"\",\n",
    "#    width=800,\n",
    "#)\n",
    "\n",
    "\n",
    "# Define an introductory text\n",
    "#dashboard_introduce =pn.pane.Markdown(\n",
    " #   \"\"\"\n",
    "#The dashboard presents our findings of whether the stock markets are currently in bubble.\n",
    "#\"\"\"\n",
    "#)\n",
    "\n",
    "# Combine the two plots with interest rates in a row for better comparison and illustration\n",
    "#interest_rates = pn.Row (usa_rates_plot_2, discount_rate_plot)\n",
    "\n",
    "#  Establish the first tab as \"Home\" tab with the title and welcome and combine with the plots related to SP500 performance, money supply, and GDP data\n",
    "#dashboard_page = pn.Column (dashboard_title, dashboard_introduce, interest_rates, gdp_plot_2)\n",
    "\n",
    "\n",
    "# Create the main dashboard with each tabs being defined above\n",
    "#dashboard_tabs = pn.Tabs(             \n",
    " #               (\"Interest Rates and GDP\", dashboard_page)\n",
    "                #(\"Price to Earning\", ),\n",
    "                #(\"Sentimental Measure\", )\n",
    "            #            )\n",
    "\n",
    "\n",
    "#dashboard = pn.Column(pn.Row(dashboard_title), dashboard_tabs, width=900)\n"
   ]
  },
  {
   "cell_type": "code",
   "execution_count": null,
   "id": "06fe1697-afc5-414e-948b-d93059003b23",
   "metadata": {},
   "outputs": [],
   "source": [
    "#dashboard_tabs.servable()"
   ]
  },
  {
   "cell_type": "code",
   "execution_count": null,
   "id": "6180bc58-edac-4b74-99a8-fe9569877e86",
   "metadata": {},
   "outputs": [],
   "source": [
    "# imports all the necessary libraries and packages for the analysis which will be carried out in this assignment\n",
    "import panel as pn\n",
    "pn.extension('plotly')\n",
    "import plotly.express as px\n",
    "import pandas as pd\n",
    "import hvplot.pandas\n",
    "import matplotlib.pyplot as plt\n",
    "import os\n",
    "from pathlib import Path\n",
    "from dotenv import load_dotenv\n",
    "import numpy as np\n",
    "import warnings\n",
    "warnings.filterwarnings('ignore')"
   ]
  },
  {
   "cell_type": "code",
   "execution_count": null,
   "id": "e6c974d3-4e58-43ff-8169-1cb88774adc7",
   "metadata": {},
   "outputs": [],
   "source": [
    "# In this part of the coding, we will use the US economic indicators to investigate any pattern or relationship between the performance of the stock with these indicators.\n",
    "# By using the CSV path reader to retrieve the US unemployment rate.csv file for further analysis in this project, and we will set the Date as the index column\n",
    "unemployment_path = Path(\"./Resources/unemployment.csv\")\n",
    "unemployment = pd.read_csv(unemployment_path, infer_datetime_format=True, parse_dates = True, index_col = \"DATE\")\n",
    " \n"
   ]
  },
  {
   "cell_type": "code",
   "execution_count": null,
   "id": "349884c4-8e78-4894-8c41-afd7f3fb78cd",
   "metadata": {},
   "outputs": [],
   "source": [
    "# Data cleaning and drop all the null entries in the dataframe\n",
    "unemployment.columns = [\"unemploy_rate\"]\n",
    "unemployment = unemployment.dropna()\n",
    "unemployment.head()\n"
   ]
  },
  {
   "cell_type": "code",
   "execution_count": null,
   "id": "4b3c8d4c-ce6f-402e-95f9-6e768f6a45be",
   "metadata": {},
   "outputs": [],
   "source": [
    "# To calculate the percentage change of the unemployment rate using pct_change() function\n",
    "change_in_unemployment = unemployment.pct_change().dropna().copy()\n",
    "change_in_unemployment.head()"
   ]
  },
  {
   "cell_type": "code",
   "execution_count": null,
   "id": "36edd583-54de-46ba-aba4-971a76bd28a9",
   "metadata": {},
   "outputs": [],
   "source": [
    "# By using the CSV path reader to retrieve the US money supply (m1).csv file for our analysis in this project, and we will set the Date as the index column\n",
    "\n",
    "msupply_path = Path(\"./Resources/m1supply.csv\")\n",
    "msupply = pd.read_csv(msupply_path, infer_datetime_format=True, parse_dates = True, index_col=\"DATE\")\n",
    "msupply.tail(10)"
   ]
  },
  {
   "cell_type": "code",
   "execution_count": null,
   "id": "9f864b0b-201a-4822-9f19-31bf69fd6a2d",
   "metadata": {},
   "outputs": [],
   "source": [
    "# Data cleaning and drop all the null entries in the dataframe and we slice the money supply data to recent 25 years\n",
    "msupply.columns =[\"m1supply\"]\n",
    "msupply= msupply.dropna()\n",
    "msupply = msupply['1997-01-01' :'2021-06-30']\n",
    "msupply.head(10)"
   ]
  },
  {
   "cell_type": "code",
   "execution_count": null,
   "id": "794ea0a6-51d2-44e7-ad6a-290d9fcba3ed",
   "metadata": {},
   "outputs": [],
   "source": [
    "msupply.hvplot(xlabel = \"Year\", ylabel = \"Money Supply M1 in billions\", title =\"The Money Suppy M1 since 1997\", color =\"red\")"
   ]
  },
  {
   "cell_type": "code",
   "execution_count": null,
   "id": "8f9f906f-8713-48d8-ad2f-43e07d9dead3",
   "metadata": {},
   "outputs": [],
   "source": [
    "# By using the panda datareader to retrieve the SP500 index prices from yahoo finance directly and transfer them into dataframe, and we will select the recent 25 years"
   ]
  },
  {
   "cell_type": "code",
   "execution_count": null,
   "id": "9cb7948c-a832-4ee6-ac8b-0c396b555607",
   "metadata": {},
   "outputs": [],
   "source": [
    "from pandas_datareader import data as pdr\n",
    "from datetime import datetime\n",
    "\n",
    "import yfinance as yf\n",
    "import requests\n",
    "# from discord import Webhook, RequestsWebhookAdapter\n",
    "import time\n",
    "yf.pdr_override() # <== that's all it takes :-)\n",
    "\n",
    "SP500_df= pdr.get_data_yahoo(tickers='^GSPC', period='25Y', interval= \"1mo\", mthreads=True)\n",
    "\n"
   ]
  },
  {
   "cell_type": "code",
   "execution_count": null,
   "id": "afeb90d7-452e-442f-aee7-be94a73c735f",
   "metadata": {},
   "outputs": [],
   "source": [
    "# Data cleaning and drop all unnecessary columns for our analysis\n",
    "SP500_df = SP500_df.drop(columns = [\"Open\",\"High\",\"Low\",\"Adj Close\", \"Volume\"])\n",
    "\n",
    "SP500_df.head()"
   ]
  },
  {
   "cell_type": "code",
   "execution_count": null,
   "id": "98769621-a1b0-4927-9d77-5856d26543eb",
   "metadata": {},
   "outputs": [],
   "source": [
    "# Calculate the monthly return of SP500 using PCT_change() function\n",
    "SP500_monthly_return = SP500_df.pct_change().dropna().copy()\n",
    "SP500_monthly_return.columns = [\"SP500_monthly_return\"]\n",
    "SP500_monthly_return.head()"
   ]
  },
  {
   "cell_type": "code",
   "execution_count": null,
   "id": "2fa05d4f-ab5c-4f21-9cf6-030e613374d0",
   "metadata": {},
   "outputs": [],
   "source": [
    "# By using the panda datareader to retrieve the commodity gold prices from yahoo finance directly and transfer them into dataframe, and we will select the recent 20 years"
   ]
  },
  {
   "cell_type": "code",
   "execution_count": null,
   "id": "9218bcce-2ebb-46c2-aed3-060cf4917f57",
   "metadata": {},
   "outputs": [],
   "source": [
    "gld_df= pdr.get_data_yahoo(tickers='GLD', period='20Y', interval= \"1mo\", mthreads=True)\n",
    "gld_df = gld_df.drop(columns = [\"Open\",\"High\",\"Low\",\"Adj Close\", \"Volume\"])\n"
   ]
  },
  {
   "cell_type": "code",
   "execution_count": null,
   "id": "6b0e0105-c3e0-4313-9632-a08cbe25ad7f",
   "metadata": {},
   "outputs": [],
   "source": [
    "gld_df.head()"
   ]
  },
  {
   "cell_type": "code",
   "execution_count": null,
   "id": "5b43995a-2850-48b2-8207-d448f34d10c9",
   "metadata": {},
   "outputs": [],
   "source": [
    "# Calculate the monthly return of SP500 using PCT_change() function\n",
    "gld_monthly_return = gld_df.pct_change().dropna().copy()\n",
    "gld_monthly_return.columns =[\"gld_monthly_return\"]\n",
    "gld_monthly_return.head()"
   ]
  },
  {
   "cell_type": "code",
   "execution_count": null,
   "id": "8c09f2f6-7056-4e42-b7fb-cb49138141b0",
   "metadata": {},
   "outputs": [],
   "source": [
    "# By using the CSV path reader to retrieve the US interest rate.csv file for our analysis in this project, and we will set the Date as the index column\n",
    "int_rate_path = Path(\"3mon_int_rate.csv\")\n",
    "int_rate = pd.read_csv(int_rate_path, infer_datetime_format=True, parse_dates = True, index_col = \"DATE\")\n",
    " \n",
    "int_rate.tail(20)\n"
   ]
  },
  {
   "cell_type": "code",
   "execution_count": null,
   "id": "049bbf1c-d3ab-46e1-b7dd-a6984683a396",
   "metadata": {},
   "outputs": [],
   "source": [
    "# Data cleaning for analysis\n",
    "int_rate.columns =[\"int_rate\"]\n",
    "int_rate.head()"
   ]
  },
  {
   "cell_type": "code",
   "execution_count": null,
   "id": "4e0c35b7-8edd-427f-afb2-e3ef239d1183",
   "metadata": {},
   "outputs": [],
   "source": [
    "# By using the CSV path reader to retrieve the US inflation rate.csv file for our analysis in this project, and we will set the Date as the index column\n",
    "inflation_path = Path(\"inflation.csv\")\n",
    "inflation = pd.read_csv(inflation_path, infer_datetime_format=True, parse_dates = True, index_col = \"DATE\")\n",
    "inflation.columns =[\"inflation_rate\"]\n",
    "\n",
    "inflation.head()"
   ]
  },
  {
   "cell_type": "code",
   "execution_count": null,
   "id": "a3add3ff-a339-458a-89c6-58c59c40f4a4",
   "metadata": {},
   "outputs": [],
   "source": [
    "#Combine all econmic indicators into a matrix by concatenation with column as axis and inner join as the parameters"
   ]
  },
  {
   "cell_type": "code",
   "execution_count": null,
   "id": "d69139fd-290a-4980-87db-b30c8f3b2be0",
   "metadata": {},
   "outputs": [],
   "source": [
    "matrix_df= pd.concat([unemployment, msupply, SP500_monthly_return, gld_monthly_return, int_rate, inflation], axis=\"columns\", join=\"inner\")\n",
    "matrix_df.head()"
   ]
  },
  {
   "cell_type": "code",
   "execution_count": null,
   "id": "9ba16740-2c30-4c24-bb0d-81bdea2b3e52",
   "metadata": {},
   "outputs": [],
   "source": [
    "# With the established matrix, we perform the correlation calculation using the corr() function in pandas\n",
    "correlation = matrix_df.corr()\n",
    "correlation"
   ]
  },
  {
   "cell_type": "code",
   "execution_count": null,
   "id": "ad858caa-9bf7-4686-838d-59f6328687c1",
   "metadata": {},
   "outputs": [],
   "source": [
    "# With the seaborn packages, we plotted the heat map for the correlation among the variables and SP500\n",
    "import seaborn as sns\n",
    "heat_map = sns.heatmap(correlation,vmin=-1, vmax=1, annot = True)"
   ]
  },
  {
   "cell_type": "code",
   "execution_count": null,
   "id": "aa8f6492-7950-46a8-8a21-34773d11dc73",
   "metadata": {},
   "outputs": [],
   "source": [
    "#  The heat map results shown that money supply and the performance of S&P500 has positive correlation, so we will focus on the money supply indicator in our study"
   ]
  },
  {
   "cell_type": "code",
   "execution_count": null,
   "id": "a4ea9c00-db97-4199-9047-da34a2914788",
   "metadata": {},
   "outputs": [],
   "source": [
    "#positive_correlation = pd.concat([msupply,SP500_df], axis =\"columns\", join= \"inner\")\n",
    "#positive_correlation.head()"
   ]
  },
  {
   "cell_type": "code",
   "execution_count": null,
   "id": "9cbee516-3108-4572-a532-3bcd5a0034d8",
   "metadata": {},
   "outputs": [],
   "source": [
    "\n",
    "#positive_correlation_updated= positive_correlation.reset_index()\n",
    "#positive_correlation_updated.columns = [\"year\", \"money_supply\",\"SP500\"]\n",
    "#positive_correlation_updated.head()"
   ]
  },
  {
   "cell_type": "code",
   "execution_count": null,
   "id": "6381ec6b-4c2f-41ca-807d-205327396031",
   "metadata": {},
   "outputs": [],
   "source": [
    "# Further datacleaning in money_supply dataframe and to plot the money supply with ploty express package\n",
    "msupply_updated= msupply.reset_index()\n",
    "msupply_updated.columns = [\"year\", \"money_supply\"]\n",
    "msupply_updated.head()"
   ]
  },
  {
   "cell_type": "code",
   "execution_count": null,
   "id": "020b6612-e7a8-4e85-a64f-3535967b8554",
   "metadata": {},
   "outputs": [],
   "source": [
    "# Using plotly express to plot the money supply over the last 25 years and highlightling periods when there were financial crisis in the past.  These periods include 2008's housing bubble\n",
    "# 2020's pandemic\n",
    "\n",
    "msupply_plotly = px.line(msupply_updated, x= \"year\", y=\"money_supply\", title = \"Money Supply Over the years\")\n",
    "msupply_plotly = msupply_plotly.add_vrect(x0=\"2008-07-11\", x1=\"2009-06-30\",\n",
    "               col=1,\n",
    "              annotation_text=\"Housing Bubble\", annotation_position=\"top left\",\n",
    "              fillcolor=\"green\", opacity=0.25, line_width=0)\n",
    "msupply_plotly2 = msupply_plotly.add_vrect( x0=\"2020-03-15\", x1=\"2021-06-30\",\n",
    "               col=1,\n",
    "              annotation_text=\"Pandemic\", annotation_position=\"top left\",\n",
    "              fillcolor=\"green\", opacity=0.25, line_width=0)\n",
    "msupply_plotly2"
   ]
  },
  {
   "cell_type": "code",
   "execution_count": null,
   "id": "c03e4b9b-15c2-4ad7-a4b5-d6c29d91fc8f",
   "metadata": {},
   "outputs": [],
   "source": []
  },
  {
   "cell_type": "code",
   "execution_count": null,
   "id": "b0aba4a5-01a1-45e2-97df-a8b46b5563ef",
   "metadata": {},
   "outputs": [],
   "source": [
    "# Further data cleaning of S&P 500 index's dataframe to plot the performance of the S&P 500 in the past 25 years"
   ]
  },
  {
   "cell_type": "code",
   "execution_count": null,
   "id": "51283fc8-3cc7-40cd-b802-df2b9a496812",
   "metadata": {},
   "outputs": [],
   "source": [
    "SP500_df = SP500_df.reset_index()\n",
    "SP500_df.columns = [\"Year\",\"SP500\"]\n",
    "SP500_df.head()"
   ]
  },
  {
   "cell_type": "code",
   "execution_count": null,
   "id": "d4e590f3-9fe7-4471-9086-dd9873a60f40",
   "metadata": {},
   "outputs": [],
   "source": [
    "# Using plotly express to plot the performance of S&P 500 index over the last 25 years and highlighting the periods of  2008's housing bubble\n",
    "# 2020's pandemic"
   ]
  },
  {
   "cell_type": "code",
   "execution_count": null,
   "id": "370973cf-3d48-42ab-b12a-a36e01e0443c",
   "metadata": {},
   "outputs": [],
   "source": [
    "SP500_plot = px.line (SP500_df, x= \"Year\", y=\"SP500\", title=\"S&P500 Performance over the years\",)\n",
    "\n",
    "\n",
    "SP500_plotly = SP500_plot.add_vrect( x0=\"2008-07-11\", x1=\"2009-06-30\",\n",
    "               col=1,\n",
    "              annotation_text=\"Housing Bubble\", annotation_position=\"top left\",\n",
    "              fillcolor=\"green\", opacity=0.25, line_width=0)\n",
    "SP500_plotly2 = SP500_plotly.add_vrect( x0=\"2020-03-15\", x1=\"2021-06-30\",\n",
    "               col=1,\n",
    "              annotation_text=\"Pandemic\", annotation_position=\"top left\",\n",
    "              fillcolor=\"green\", opacity=0.25, line_width=0)\n",
    "SP500_plotly2\n"
   ]
  },
  {
   "cell_type": "code",
   "execution_count": null,
   "id": "c20da78c-aa21-4421-9d24-608fe911f1df",
   "metadata": {},
   "outputs": [],
   "source": [
    "# To further study the performance of SP500 index over the last 25 years, we find more data about the S&P500 comparing to US GDP.  We then plot these data to see any particular pattern\n",
    "# can be observed\n",
    "\n",
    "#  SP500 to GDP ratio was retrieve using the CSV reader and the Date was set as the index column, and we will selet the data over the last 100 years for plotting\n",
    "#  Green color rectangular box in the graph is used to highlight the periods of Great Depresson, 2000's Dotcom bubble, and the 2020's pandemic"
   ]
  },
  {
   "cell_type": "code",
   "execution_count": null,
   "id": "caa62835-c338-4bb0-b51d-f067eb3d37c7",
   "metadata": {},
   "outputs": [],
   "source": [
    "SP500_GDP_path = Path(\"sp500_gdp_ratio.csv\")\n",
    "SP500_GDP = pd.read_csv(SP500_GDP_path, infer_datetime_format=True, parse_dates = True)\n",
    " \n",
    "SP500_GDP = SP500_GDP.dropna() \n",
    "SP500_GDP.set_index(\"DateTime\", inplace=True)\n",
    "\n",
    "SP500_GDP = SP500_GDP['1920-01-01' :'2021-06-30']"
   ]
  },
  {
   "cell_type": "code",
   "execution_count": null,
   "id": "f2230262-39e0-4203-a4de-be545aa321e0",
   "metadata": {},
   "outputs": [],
   "source": [
    "SP500_GDP_plot = px.line(SP500_GDP, x = SP500_GDP.index, y = \"SP500/GDP\", labels=dict(DateTime=\"Year\"), title =\"Ratio of S&P500 to GDP\")\n",
    "\n",
    "\n",
    "\n",
    "SP500_GDP_plot = SP500_GDP_plot.add_vrect( x0=\"1929-07-1\", x1=\"1929-09-30\",\n",
    "                  col=1,\n",
    "                  annotation_text=\"Great Depression\", annotation_position=\"top left\",\n",
    "                  fillcolor=\"green\", opacity=0.25, line_width=0)\n",
    "\n",
    "SP500_GDP_plot2 = SP500_GDP_plot.add_vrect( x0=\"1999-12-27\", x1=\"2000-12-30\",\n",
    "                  col=1,\n",
    "                  annotation_text=\"Dotcom Bubble\", annotation_position=\"right\",\n",
    "                  fillcolor=\"green\", opacity=0.25, line_width=0)\n",
    "\n",
    "SP500_GDP_plot3 = SP500_GDP_plot2.add_vrect( x0=\"2020-03-15\", x1=\"2021-06-30\",\n",
    "                  col=1,\n",
    "                  annotation_text=\"Pandemic\", annotation_position=\"top right\",\n",
    "                  fillcolor=\"green\", opacity=0.25, line_width=0)\n",
    "\n",
    "\n",
    "SP500_GDP_plot3"
   ]
  },
  {
   "cell_type": "code",
   "execution_count": null,
   "id": "f861d8d6-93cf-462a-9810-815ddc8055cd",
   "metadata": {},
   "outputs": [],
   "source": [
    "#  SP500  and GDP data were retrieved using the CSV reader and the Date was set as the index column, and we will selet the data over the last 60 years for plotting to see any signifiance changes\n",
    "#  Green color rectangular box in the graph is used to highlight the periods of Great Depresson, 2000's Dotcom bubble, and the 2020's pandemic"
   ]
  },
  {
   "cell_type": "code",
   "execution_count": null,
   "id": "437f4e83-1ec9-4c82-94bc-8bb645f137ee",
   "metadata": {},
   "outputs": [],
   "source": [
    "SPGDP_path = Path(\"sp500_gdp.csv\")\n",
    "SP_GDP = pd.read_csv(SPGDP_path, infer_datetime_format=True, parse_dates = True)\n",
    "\n",
    "SP_GDP.set_index(\"DateTime\", inplace=True)\n",
    "\n",
    "\n",
    "\n",
    "\n",
    "SP_GDP_50 = SP_GDP['1940-01-01' :'2021-06-30']\n",
    "\n",
    "SP_GDP_50_return = SP_GDP_50.pct_change().dropna()\n",
    "\n",
    "SP_GDP_50_return.head()\n",
    "\n",
    "SP_GDP_50_cumulative = ((1+SP_GDP_50_return).cumprod())-1\n",
    "SP_GDP_50_cumulative.head()"
   ]
  },
  {
   "cell_type": "code",
   "execution_count": null,
   "id": "d7782be1-ef34-40bb-bdce-a2a94e7b854f",
   "metadata": {},
   "outputs": [],
   "source": []
  },
  {
   "cell_type": "code",
   "execution_count": null,
   "id": "6bd66b25-e850-4d6e-b123-e98ce74504af",
   "metadata": {},
   "outputs": [],
   "source": [
    "SP_GDP_50_plot = px.line(SP_GDP_50_cumulative, x = SP_GDP_50_cumulative.index, y = [\"S&P 500\",\"GDP\"], labels=dict(DateTime=\"Year\", value = \"S&P500 and GDP Cumulative Return\"), \n",
    "                        title = \"Cumulative Growth of SP500 and GDP\")\n",
    "\n",
    "\n",
    "\n",
    "SP_GDP_50_plot = SP_GDP_50_plot.add_vrect( x0=\"1999-12-27\", x1=\"2000-12-30\",\n",
    "                  col=1,\n",
    "                  annotation_text=\"Dotcom Bubble\", annotation_position=\"right\",\n",
    "                  fillcolor=\"green\", opacity=0.25, line_width=0)\n",
    "\n",
    "SP_GDP_50_plot2 = SP_GDP_50_plot.add_vrect( x0=\"2007-02-28\", x1=\"2009-06-30\",\n",
    "                  col=1,\n",
    "                  annotation_text=\"2008 Housing Bubble\", annotation_position=\"left\",\n",
    "                  fillcolor=\"green\", opacity=0.25, line_width=0)\n",
    "\n",
    "SP_GDP_50_plot3 = SP_GDP_50_plot2.add_vrect( x0=\"2020-03-15\", x1=\"2021-06-30\",\n",
    "                  col=1,\n",
    "                  annotation_text=\"Pandemic\", annotation_position=\"top right\",\n",
    "                  fillcolor=\"green\", opacity=0.25, line_width=0)\n",
    "\n",
    "\n",
    "SP_GDP_50_plot3"
   ]
  },
  {
   "cell_type": "code",
   "execution_count": null,
   "id": "0f32efac-69ad-4a17-b127-70ad0c9a1105",
   "metadata": {},
   "outputs": [],
   "source": []
  },
  {
   "cell_type": "code",
   "execution_count": null,
   "id": "89a469ff-8747-4cf4-8350-0af499be6688",
   "metadata": {},
   "outputs": [],
   "source": [
    "# Create a Title for the Dashboard\n",
    "dashboard_title =\"#Are the stock market in bubble?\"\n",
    "\n",
    "# Define an introductory text\n",
    "dashboard_introduce =\"The dashboard presents our findings of whether the stock markets are currently in bubble\"\n",
    "\n",
    "# Combine the two plots with GDP and SP500 in a row for better comparison and illustration\n",
    "SP500_GDP = pn.Row (SP_GDP_50_plot3, SP500_GDP_plot3)\n",
    "\n",
    "#  Establish the first tab as \"Home\" tab with the title and welcome and combine with the plots related to SP500 performance, money supply, and GDP data\n",
    "dashboard_page = pn.Column (dashboard_title, dashboard_introduce, SP500_plotly2, msupply_plotly2, SP500_GDP)\n",
    "\n",
    "\n",
    "# Create the main dashboard with each tabs being defined above\n",
    "dashboard_tabs = pn.Tabs(             \n",
    "                (\"Economicial Measure\", dashboard_page)\n",
    "                #(\"Price to Earning\", ),\n",
    "                #(\"Sentimental Measure\", )\n",
    "                        )"
   ]
  },
  {
   "cell_type": "code",
   "execution_count": null,
   "id": "d07ff493-c861-489e-b99f-14f7c26faabd",
   "metadata": {},
   "outputs": [],
   "source": [
    "dashboard_tabs"
   ]
  },
  {
   "cell_type": "code",
   "execution_count": null,
   "id": "173e6900-8e85-4dc5-8315-4df8571dffd7",
   "metadata": {},
   "outputs": [],
   "source": []
  },
  {
   "cell_type": "code",
   "execution_count": null,
   "id": "90ec7699-28c5-4bbc-9d9d-63a6fac09f42",
   "metadata": {},
   "outputs": [],
   "source": []
  },
  {
   "cell_type": "code",
   "execution_count": null,
   "id": "cbc9bbc3-4c8d-425d-99e3-7291a9c65694",
   "metadata": {},
   "outputs": [],
   "source": []
  },
  {
   "cell_type": "code",
   "execution_count": null,
   "id": "a2284649-0bab-4ee2-a51d-310381afcea4",
   "metadata": {},
   "outputs": [],
   "source": []
  }
 ],
 "metadata": {
  "kernelspec": {
   "display_name": "Python [conda env:pyvizenv] *",
   "language": "python",
   "name": "conda-env-pyvizenv-py"
  },
  "language_info": {
   "codemirror_mode": {
    "name": "ipython",
    "version": 3
   },
   "file_extension": ".py",
   "mimetype": "text/x-python",
   "name": "python",
   "nbconvert_exporter": "python",
   "pygments_lexer": "ipython3",
   "version": "3.7.10"
  }
 },
 "nbformat": 4,
 "nbformat_minor": 5
}
